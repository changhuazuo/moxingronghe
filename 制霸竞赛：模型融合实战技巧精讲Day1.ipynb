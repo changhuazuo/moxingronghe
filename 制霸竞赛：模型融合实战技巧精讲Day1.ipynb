{
 "cells": [
  {
   "cell_type": "markdown",
   "id": "cb8a721a-8900-4328-a607-528e47641244",
   "metadata": {
    "tags": []
   },
   "source": [
    "# **机器学习新年公开课 - 模型融合实战技巧精讲**\n",
    "## Day 1 融合入门：Voting与Averaging\n",
    "> 节选自《2022机器学习实战》正课<br>\n",
    "> 作者：@菜菜TsaiTsai<br>\n",
    "> 版本号：2022/1/16 V3<br>"
   ]
  },
  {
   "cell_type": "markdown",
   "id": "013c30c2-962f-4aa1-950a-0d36380c87ba",
   "metadata": {},
   "source": [
    "# <font color=\"red\">**今日直播已结束**</font>\n",
    "# <font color=\"red\">**明晚8点继续直播融合多样性与stacking相关内容**</font>\n",
    "### <font color=\"red\">**现在下单，可获新年活动优惠+直播特惠>>>**</font>\n",
    "### <font color=\"red\">**微信扫码加小可爱，回复“ML”即可获得特惠>>>**</font>"
   ]
  },
  {
   "cell_type": "markdown",
   "id": "6db20c4b-7c7c-44a9-93af-40c849b24500",
   "metadata": {},
   "source": [
    "## 课程规划"
   ]
  },
  {
   "cell_type": "markdown",
   "id": "510cd1ea-a89f-43ea-9a78-20ce94130f52",
   "metadata": {},
   "source": [
    "欢迎来到为期三天的《制霸竞赛：融合模型实战技巧精讲》公开课。在这门课程中，我将用三天时间带你了解模型融合中的四大核心方法：Averaging，Voting，Stacking与Blending，我们会讲解每种方法的基本流程、提供完成融合的基础代码、同时深入探讨每种方法在实际应用中的所涉及到的核心技巧以及理论局限性。**当你完成这门课程时，你将能够自由地使用以上任意一种方法完成基本的融合**。如果你想更深入地学习更多模型融合相关的知识、包括如何在竞赛中使用融合提分、融合应用的相关技巧等，则可以向客服小可爱咨询正课《2022机器学习实战》。"
   ]
  },
  {
   "cell_type": "markdown",
   "id": "33aee788-ae6a-445b-a45f-38f0779d47b2",
   "metadata": {},
   "source": [
    "<img style=\"float: left;\" src=\"https://skojiangdoc.oss-cn-beijing.aliyuncs.com/2021MachineLearning/Ensembles/Fusion/barcode.png\" width=300 height=300>"
   ]
  },
  {
   "cell_type": "markdown",
   "id": "fa686f46-afdd-4fa3-ae5e-b3032be17eaf",
   "metadata": {},
   "source": [
    "**DAY 1：融合入门：Voting与Averaging**\n",
    "\n",
    "**DAY 2：融合进阶：堆叠法Stacking与Blending**\n",
    "\n",
    "**DAY 3：多模型Stacking的综合应用实战**\n",
    "\n",
    "为掌握这门课程，你需要先掌握：\n",
    "- Python基础 >> 《九天老师的Python基础》<br>https://www.bilibili.com/video/BV1U54y1W7jw?spm_id_from=333.999.0.0\n",
    "\n",
    "- 机器学习基础 >> 《2022机器学习实战公开课》<br>包括超参数、泛化能力等基本概念<br>交叉验证等基本工具<br>随机森林、GBDT等集成算法<br>https://www.bilibili.com/video/BV1f3411r7EP?share_source=copy_web"
   ]
  },
  {
   "cell_type": "code",
   "execution_count": 1,
   "id": "be374b29-99ff-4910-9781-c6c7175b03f5",
   "metadata": {},
   "outputs": [],
   "source": [
    "#版本确认\n",
    "import re\n",
    "import numpy as np\n",
    "import pandas as pd\n",
    "import matplotlib as mlp\n",
    "import matplotlib.pyplot as plt\n",
    "import sklearn\n",
    "import xgboost as xgb"
   ]
  },
  {
   "cell_type": "code",
   "execution_count": 2,
   "id": "0cf5d821-af7e-44d1-9941-ce78efda7e53",
   "metadata": {},
   "outputs": [
    {
     "name": "stdout",
     "output_type": "stream",
     "text": [
      "sklearn 1.0.1\n",
      "matplotlib 3.4.3\n",
      "numpy 1.21.4\n",
      "pandas 1.3.4\n",
      "xgboost 1.5.1\n"
     ]
    }
   ],
   "source": [
    "for package in [sklearn,mlp,np,pd,xgb]:\n",
    "    print(re.findall(\"([^']*)\",str(package))[2],package.__version__)"
   ]
  },
  {
   "cell_type": "code",
   "execution_count": null,
   "id": "6a80ac94-6fed-4063-abc7-5354950eef28",
   "metadata": {},
   "outputs": [],
   "source": [
    "#pip install --upgrade scikit-learn\n",
    "#conda update scikit-learn\n",
    "\n",
    "#使用清华源配置xgboost\n",
    "#!pip install xgboost -i https://pypi.tuna.tsinghua.edu.cn/simple"
   ]
  },
  {
   "cell_type": "markdown",
   "id": "cc5ee740-9c6a-4ad2-baff-ed508a0bfeaa",
   "metadata": {},
   "source": [
    "**目录**\n",
    "\n",
    "一 认识模型融合<br>\n",
    "二 投票法Voting<br>\n",
    "&emsp; 1 五大类投票方法<br>\n",
    "&emsp; 2 使用sklearn实现投票法<br>\n",
    "&emsp;&emsp; 2.1 导入所需的工具库，确认数据<br>\n",
    "&emsp;&emsp; 2.2 定义交叉验证所需要的函数<br>\n",
    "&emsp;&emsp; 2.3 建立基于交叉验证的benchmark、做模型选择<br>\n",
    "&emsp;&emsp; 2.4 构建多组分类器，进行融合<br>\n",
    "&emsp;&emsp; 2.5 构建多样性<br>\n",
    "&emsp;&emsp;&emsp; 2.5.1 多种多样性混合<br>\n",
    "&emsp;&emsp;&emsp; 2.5.2 剔除不良算法<br>\n",
    "&emsp;&emsp;&emsp; 2.5.3 精简多样性<br>\n",
    "&emsp;&emsp; 2.6 分类器加权<br>"
   ]
  },
  {
   "cell_type": "markdown",
   "id": "b8d16ddc-c437-4c75-9f29-2191a84c40bc",
   "metadata": {},
   "source": [
    "### **新年新班型，内容大更新**\n",
    "- 十周高效充电，决胜金三银四\n",
    "- 新增业务分析方法论\n",
    "- 新增贝叶斯优化器和AutoML\n",
    "- 新增CV医学影像识别\n",
    "...\n",
    "\n",
    "**更多实战案例、更多前沿技术**<br>\n",
    "**内容迭代【超过30%】**<br>\n",
    "\n",
    "### <font color=\"red\">**现在下单，可获新年活动优惠+直播特惠>>>**</font>\n",
    "### <font color=\"red\">**微信扫码加小可爱，回复“ML”即可获得特惠>>>**</font>"
   ]
  },
  {
   "cell_type": "markdown",
   "id": "782807ec-3a93-4dee-8210-15cb04c54583",
   "metadata": {},
   "source": [
    "  "
   ]
  },
  {
   "cell_type": "markdown",
   "id": "8c251da3-25c8-4a8f-bb64-39c12b9e14ed",
   "metadata": {},
   "source": [
    "  "
   ]
  },
  {
   "cell_type": "markdown",
   "id": "f7db3dce-5876-4b20-ad1e-0a9080ea365a",
   "metadata": {
    "tags": []
   },
   "source": [
    "# 一 认识模型融合"
   ]
  },
  {
   "cell_type": "markdown",
   "id": "04b496e5-daaf-4edc-804f-5620921cb66c",
   "metadata": {},
   "source": [
    "在机器学习竞赛界，流传着一句话：**当一切都无效的时候，选择模型融合**。这句话出自一位史上最年轻的Kaggle Master之口，无疑是彰显了模型融合这一技巧在整个机器学习世界的地位。如果说机器学习是人工智能技术中的王后，集成学习(ensemble Learning)就是王后的王冠，而坐落于集成学习三大研究领域之首的模型融合，则毫无疑问就是皇冠上的明珠，熠熠生辉，夺人眼球。\n",
    "\n",
    "为什么模型融合如此受学者们青睐呢？模型融合在最初的时候被称为“评估器结合”，与集成算法(狭义)一样，它也是训练多个评估器、并将多个评估器以某种方式结合起来解决问题的机器学习方法。我们都知道，集成算法(狭义)是竞赛高分榜统治者，但在高分榜上最顶尖的那部分战队一定都使用了相当丰富的模型融合技巧，**因为模型融合能够在经典集成模型的基础上进一步提升分数，使用模型融合技巧后、融合算法的效果常常可以胜过当前最先进的单一集成算法**。正是这一有效的提分能力，让模型融合在竞赛界具有很高的地位。也因此，模型融合是提分的最终手段。"
   ]
  },
  {
   "cell_type": "markdown",
   "id": "790105fa-1272-4268-ab3a-0172d713199e",
   "metadata": {},
   "source": [
    "同样是使用多个评估器的技术，模型融合为什么能比集成算法获得更高的分数呢？上世纪90年代的多篇论文(*Xu et al., 1992; Bauer & Kohavi, 1999; Optiz & Maclin, 1999*)从多个角度给出了多个理由——\n",
    "\n",
    "- **直观印象：训练的基础不同**\n",
    "> **集成算法(狭义)：青铜算法+人海战术**<br>\n",
    "> - 以Bagging和Boosting代表的集成算法(狭义)可以说是使用青铜算法+人海战术。在集成时，我们一般使用数百棵决策树、甚至树桩这样的弱评估器，构成强大的学习能力。<br><br>\n",
    "> - 在这个过程中，由于评估器数量很多，因此每个评估器贡献自己的一小步(Boosting)、或者一小点意见(Bagging)，没有任何弱评估器可以在数据集上直接给出优秀的结果。因此从本质上来说，集成算法还是一个算法，弱评估器本身不具备有效预测能力。<br><br>\n",
    "> **模型融合：王者算法+精英敢死队**<br>\n",
    "> - 模型融合则使用王者算法+精英敢死队战术。在融合时，我们往往构建最多数十个Xgboost、神经网络这样的强评估器，再设计出强大的规则来融合强评估器的结果。或者，我们使用少数几个很强的学习器处理特征，再让将新特征输入相对较弱的学习器，以此来提升模型表现。<br><br>\n",
    "> - 在这个过程中，由于评估器很少，所以每个评估器的贡献都很大，即便不融合，单一评估器也可以直接在数据集上给出优秀的结果。因此从本质上来说，模型融合是囊括多个算法的技巧，而并非一个算法。<br>\n",
    "\n",
    "不难发现：<font color=\"red\">**通过集成，我们让算法从弱到强，但通过融合，我们让算法从强到更强**</font>。面对同样的预测任务，集成算法会努力获得一个好结果，而模型融合则是将许多好结果融合在一起，得到更好的结果。"
   ]
  },
  {
   "cell_type": "markdown",
   "id": "682d4b8c-db37-4c46-abf8-f7ed918838a9",
   "metadata": {
    "tags": []
   },
   "source": [
    "- **统计方面：假设空间不同，泛化能力不同**\n",
    "> **集成算法(狭义)：一维假设空间**<br>\n",
    "> - 每个算法都是一套独一无二的、从数据到结论的计算流程，这一流程在统计学上被称为是“对样本与标签关系的假设”。例如，KNN假设，相同类别的样本在特征上应该相似。Boosting算法假设令单一损失函数最小的树一定可以组成令整体损失最小的树林。<br><br>\n",
    "> - 我们可以有不同的假设，但在有限的训练数据集上，我们很难看出哪个假设才是对贴近于真实样本标签关系的假设。这就是说，**我们无法保证现在表现好的算法在未知数据集上表现也一定会好**。因此使用单一假设/单一算法的缺点就很明显：虽然在当前数据集上当前假设表现最好，但如果其他假设才更贴近数据真实的情况，那当前选择出的模型的泛化能力在未来就无法得到保证了。<br><br>\n",
    "> **模型融合：高维假设空间**<br>\n",
    "> - 相对的，如果能够将不同的假设结合起来，就可以降低选错假设的风险。最贴近数据真实状况的假设，即便在当前数据集上表现并不是最好的，但在融合之后可以给与融合的结果更强大的泛化能力。<br><br>\n",
    "> - 同时，假设真正的数据规律并不能被现在的数据代表，那融合多个假设也能够拓展假设空间，不同假设最终能够更接近真实规律的可能性也越大。\n",
    "\n",
    "因此，从统计学的角度来说，模型融合能够：<font color=\"red\">**(1) 降低选错假设导致的风险、(2)提升捕捉到真正数据规律的可能性、(3)提升具有更好泛化能力的可能性**</font>。"
   ]
  },
  {
   "cell_type": "markdown",
   "id": "66be6985-2d1a-46aa-83f3-b72ff322227e",
   "metadata": {
    "jupyter": {
     "source_hidden": true
    },
    "tags": []
   },
   "source": [
    "- **计算方面：起点数量不同，模型表现不同**\n",
    "> **集成算法(狭义)：只有一组起点，最终只能得到一个局部最小值**<br>\n",
    "> - 许多算法在搜索时都会陷入局部最优解，即便有足够多的训练数据，我们也无法判断能否找到理论上真实的最小值。一般在算法训练时，我们把搜索出的局部最小值当作是真实最小值的近似值，但我们却无法估计真实最小值与局部最小值之间有大多的差异。但由于我们只有一个局部最小值，真实最小值在哪里完全没有头绪。<br><br>\n",
    "> **模型融合：多组不同的起点，最终得到一个局部最小值的范围**<br>\n",
    "> - 模型融合过程中，每个算法都会有自己的起点、并最终获得多个不同的局部最小值。虽然这些局部最小值当中，没有任意一个等于真正的最小值，但真正的最小值很大可能就在这些局部最小值构成的范围当中。通过结合局部最小值，可以获得更接近真实最小值的近似值，从而提升模型的精度。\n",
    "\n",
    "因此，从计算方面来看，模型融合能够：<font color=\"red\">**(1)降低选错起点假设的风险、(2)降低局部最小值远远偏离真实值的风险、(3)提升算法结果更接近真实最小值的可能性**</font>。\n",
    "\n",
    "当算法出现统计学方面的问题时，模型一般表示为高方差、低偏差（更换数据之后模型表现非常动荡）。当算法出现计算方面的问题时，模型一般表示为高偏差、低方差（无论换什么数据，局部最小值都远离真正的最小值）。因此，理论上来说，模型融合这一技巧的上限非常高：我们可以同时降低方差和偏差、找到方差-偏差均衡的最优点。"
   ]
  },
  {
   "cell_type": "markdown",
   "id": "7af17399-f142-42ec-ac97-8caabb90f063",
   "metadata": {},
   "source": [
    "现在，使用比较广泛的融合方式有如下4种：\n",
    "\n",
    "- **均值法Averaging**：适用于回归类算法，将每个评估器的输出做平均，类似于Bagging中回归的做法。我们已经在之前的《集成算法》公开课中给大家讲解过Averaging。\n",
    "- **投票法Voting**：适用于分类算法，按每个评估器的输出进行投票，类似于Bagging中分类的做法。\n",
    "\n",
    "- **堆叠法Stacking**：使用一个/多个算法在训练集上输出的某种结果作为下一个算法的训练数据。其中比较著名的是gbdt+lr，其中逻辑回归lr使用gbdt输出的树结构数据作为训练数据。\n",
    "\n",
    "- **改进堆叠法Blending**：一种特殊的stacking，使用一个/多个算法在验证集上输出的某种结果作为下一个算法的训练数据。\n",
    "\n",
    "另外还有其他在论文中出现过，但并未被广泛使用的各种融合方法，例如无限集成（Unlimited Ensemble）、代数集成（Algebraic Method）、行为知识空间法（behavior knowldge space）等。这些方法都基于非常严谨的数学过程建立，数学功底不错的小伙伴可以查看周志华教授的《集成学习：基础与算法》书籍。接下来的3天，我们将一一说明讲解上述融合方法。"
   ]
  },
  {
   "cell_type": "markdown",
   "id": "00c391bd-362b-46a7-9d08-71cd10d5a160",
   "metadata": {
    "tags": []
   },
   "source": [
    "# 二 投票法Voting"
   ]
  },
  {
   "cell_type": "markdown",
   "id": "95d6d4ca-0c74-4378-9e0d-c6f2109d9d90",
   "metadata": {},
   "source": [
    "## 1 五大类投票方法"
   ]
  },
  {
   "cell_type": "markdown",
   "id": "e43e064a-0d8d-4aae-a09d-9eb6d4dd1c3d",
   "metadata": {},
   "source": [
    "投票法是适用于分类任务的模型融合方法，也是在直觉上来说最容易理解的方法。简单来说，**投票法对所有评估器输出的结果按类别进行计数，出现次数最多的类别就是融合模型输出的类别**。假设现在面临3分类问题，有5个强学习器，对于任意样本$i$而言，这些强学习器的输出类别分别如下所示：\n",
    "\n",
    "1号分类器：3<br>\n",
    "2号分类器：3<br>\n",
    "3号分类器：2<br>\n",
    "4号分类器：3<br>\n",
    "5号分类器：2<br>\n",
    "\n",
    "在5个学习器的结果来看，类别3出现3次，类别2出现2次，类别1一次也没有出现，因此出现次数最多的类别3就是该融合模型在样本$i$上的预测类别。这种方式其实就是让所有评估器对类别进行投票、并且让少数如从多数，我们在KNN以及Bagging算法（如随机森林分类）当中都见过这种投票方式，应该相当容易理解。在实际机器学习执行过程当中，我们可以使用多种、丰富的投票方式：\n",
    "\n",
    "- **相对多数投票 vs 绝对多数投票**\n",
    "> **相对多数投票**就是上面所提到的少数服从多数，即只要有一个备选类别占比较多即可。与之相对的是绝对多数投票：<br><br>\n",
    "> **绝对多数投票**要求至少有50%或以上的分类器都输出了同一类别，否则就拒绝预测。例如在上面5个分类器中，至少要有2.5个分类器都输出同一类别，样本才能够进行输出具体类别，否则则输出“不确定”，相当于增加一类输出类别。<br><br>\n",
    "这种投票方法在现在听起来非常奇怪，为什么我们要允许算法拒绝预测呢？事实上，绝对多数投票是现实中非常常见的投票方法（例如公司关键议程的通过、某些公司董事长的选举），这种投票方法不会轻易抹杀少数派的意见，而会尽量为更多的人争取利益。因此，当我们需要对决策更加谨慎时，我们就会选择绝对多数投票。如果票数最多的类别没有占比超过50%，则重新投票。<br><br>\n",
    "在机器学习当中，**绝对多数投票可以帮助我们衡量当前投票的置信程度**。票数最多的类别占比越高，说明融合模型对当前样本的预测越有信心。当票数最多的类别占比不足50%时，重新投票对于机器学习来说效率太低，因此我们往往会选择另一种方案：我们可以使用相对较弱的学习器进行绝对多数投票融合、并将绝对多数投票中被输出为“不确定”的样本交由学习能力更强的模型进行预测，相当于将“困难样本”交由复杂度更高的算法进行预测，这也是一种融合方式。"
   ]
  },
  {
   "cell_type": "markdown",
   "id": "9e3b230b-705c-4f8e-b1cb-d0674e1ac4ca",
   "metadata": {},
   "source": [
    "- **硬投票 vs 软投票**\n",
    "> 大多数分类模型的模型输出结果可以有两种表示方式：<br>\n",
    "> - 表示为二值或多值标记，即算法输出值为[0,1]或[1,2,3]这样的具体类别。<br><br>\n",
    "> - 表示为类别概率，即算法输出值为(0,1)之间的任意浮点数，越靠近1则说明算法对当前类别预测的置信度越高。我们需要规定阈值、或使用softmax函数的规则来将浮点数转换为具体的类别。<br><br>\n",
    ">\n",
    "> 基于此，我们可以将投票分成两种类型：<br><br>\n",
    "> **硬投票**：将不同类别的出现次数进行计数，出现次数最多的类别就是投票结果<br><br>\n",
    "> **软投票**：将不同类别下的概率进行加和，概率最高的类别就是投票结果。基于概率的软投票可以衡量投票的置信程度，某一类别下的概率越高，说明模型对该类别的预测结果越有信心。<br>\n",
    "\n",
    "具体来看，延续3分类、5个分类器的假设，当使用二值标记时我们有：\n",
    "\n",
    "1号分类器：3<br>\n",
    "2号分类器：3<br>\n",
    "3号分类器：2<br>\n",
    "4号分类器：3<br>\n",
    "5号分类器：2<br>\n",
    "\n",
    "当使用类别概率时，我们有：\n",
    "\n",
    "|分类器|1的概率|2的概率|3的概率|\n",
    "|:-:|:-:|:-:|:-:|\n",
    "|1号|0.1|0.4|0.5|\n",
    "|2号|0.2|0.35|0.45|\n",
    "|3号|0.1|0.6|0.3|\n",
    "|4号|0.3|0.3|0.4|\n",
    "|5号|0.4|0.5|0.1|\n",
    "\n",
    "在软投票中，我们对所有分类器上每一个类别的概率进行加和：\n",
    "\n",
    "|分类器|1的概率|2的概率|3的概率|\n",
    "|:-:|:-:|:-:|:-:|\n",
    "|1号|0.1|0.4|0.5|\n",
    "|2号|0.2|0.35|0.45|\n",
    "|3号|0.1|0.6|0.3|\n",
    "|4号|0.3|0.3|0.4|\n",
    "|5号|0.2|0.7|0.1|\n",
    "|**加和**|**0.09**|**2.35**|**1.75**|\n",
    "\n",
    "加和之后，概率占比最高的是类别2。因此基于软投票，算法输出的类别为类别2。不难发现，软投票和硬投票得出的结果可能不同，这是因为软投票有一种“窥探心灵”的能力（也就是衡量置信度的能力）。\n",
    "\n",
    "如果使用硬头票，那毫无疑问输出类别应该是3。但当我们查看具体的预测概率时我们就会发现，给与类别3较高概率的分类器（1号、2号与4号）往往也给与了类别2较高的概率，只不过这些分类器稍稍倾向于类别3。然而，给出类别2的分类器（3号、5号）往往会给与类别2非常高的概率，这说明这两个分类器对于自己输出的类别非常有信心。这种情况导致对概率进行加和后，我们发现类别2的概率是最高的。在5个分类器进行投票时，有三个分类器认为类别2是真实标签的可能性很高，另外两个分类器认为类别2就是真实标签，那毫无疑问选择输出类别2是整个团队置信度到达顶峰的选项。\n",
    "\n",
    "<font color=\"red\">**在实际进行投票法融合时，我们往往优先考虑软投票 + 相对多数投票方案**</font>，因为软投票方案更容易在当前数据集上获得好的分数。然而，如果我们融合的算法都是精心调参过的算法，那软投票方案可能导致过拟合。因此具体在使用时，需要依情况而定。"
   ]
  },
  {
   "cell_type": "markdown",
   "id": "31229d79-84be-44f4-bb21-f2c419f86a3e",
   "metadata": {},
   "source": [
    "- **加权投票**\n",
    "> 除了基于概率/基于类别进行投票、以及使用绝对多数/相对多数进行投票之外，还有一种可以与上述方式结合的投票方法，即加权投票。加权投票是在投票过程中赋予不同分类器权重的投票，具体表现在：\n",
    "> - 对于硬投票，加权投票可以改变每一个分类器所拥有的票数。<br><br>\n",
    "> - 对于软投票，加权投票可以改变每一个分类器所占的权重，令概率的普通加和变成加权求和。"
   ]
  },
  {
   "cell_type": "markdown",
   "id": "576d3881-2b12-4f61-a747-5e6211bc03c2",
   "metadata": {},
   "source": [
    "具体来看，硬投票情况下，我们有：\n",
    "\n",
    "|分类器|输出类别|原始票数|**权重**|**加权票数**|\n",
    "|:-:|:-:|:-:|:-:|:-:|\n",
    "|1|3|1|0.3|0.3|\n",
    "|2|3|1|0.8|0.8|\n",
    "|3|2|1|0.5|0.5|\n",
    "|4|3|1|0.6|0.6|\n",
    "|5|2|1|0.2|0.2|\n",
    "\n",
    "现在，我们再按照类别进行计数，类别3的票数为(0.3 + 0.8 + 0.6 = 1.7票)，而类别2的票数为(0.5 + 0.2 = 0.7)票，因此票数占比更多的是类别3，融合模型输出类别3。\n",
    "\n",
    "在软投票情况下，我们有：\n",
    "\n",
    "|分类器|1的概率|2的概率|3的概率|**权重**|\n",
    "|:-:|:-:|:-:|:-:|:-:|\n",
    "|1号|0.1|0.4|0.5|0.3|\n",
    "|2号|0.2|0.35|0.45|0.8|\n",
    "|3号|0.1|0.6|0.3|0.5|\n",
    "|4号|0.3|0.3|0.4|0.6|\n",
    "|5号|0.2|0.7|0.1|0.2|\n",
    "\n",
    "则加权求和结果可以计算为：\n",
    "\n",
    "![](https://skojiangdoc.oss-cn-beijing.aliyuncs.com/2021MachineLearning/Ensembles/Fusion/03.png)"
   ]
  },
  {
   "cell_type": "markdown",
   "id": "056c19b7-fb12-4b87-8305-03c4673809f4",
   "metadata": {},
   "source": [
    "不难发现，当调整权重之后，最终输出的结果依然是类别2，但是加权之后整体算法对于类别2的置信度是降低的、对于类别3的置信度是提升的。因此，修改权重很可能会影响融合模型最终的输出。<font color=\"Red\">**通常来说，我们会给与表现更好的分类器更多的权重，但并不会给与它过多的权重，否则会过拟合**</font>。\n",
    "\n",
    "大多数时候，我们可能会主观地认为，加权后的模型比未加权的模型更强大，因为加权求和比普通求和更复杂、加权平均也比普通平均更复杂。但事实上，无论是从实验还是理论角度，加权方法并没有表现出比一般普通方法更强的泛化能力。在某些数据上，加权会更有效，但如果强评估器之间的结果差异本来就不大，那加权一般不会使模型结果得到质的提升。"
   ]
  },
  {
   "cell_type": "markdown",
   "id": "955582a8-9af2-45c4-b9a1-6bf55aeb3b96",
   "metadata": {},
   "source": [
    "★"
   ]
  },
  {
   "cell_type": "markdown",
   "id": "a57cc0bf-35d8-4e4a-8cc7-2fd25cde7d29",
   "metadata": {},
   "source": [
    "## 2 **使用sklearn实现投票法**"
   ]
  },
  {
   "cell_type": "markdown",
   "id": "99751fed-0308-47ca-b4ba-718a80621ac5",
   "metadata": {},
   "source": [
    "在sklearn的集成学习板块中，拥有数个帮助我们实现各类融合方法的类，其中，我们可以很容易使用下面的类来实现投票法：\n",
    "\n",
    "*class* `sklearn.ensemble.VotingClassifier`(estimators, *, voting='hard', weights=None, n_jobs=None, flatten_transform=True, verbose=False)<br>"
   ]
  },
  {
   "cell_type": "markdown",
   "id": "b3c9a7bd-0e2b-41d3-abb5-704f740c97cd",
   "metadata": {},
   "source": [
    "|参数|说明|\n",
    "|:-:|-|\n",
    "|estimators|需要使用投票法融合的分类评估器及分类评估器的名称。<br>可输入单一评估器，或使用列表打包多个评估器。|\n",
    "|voting|投票方式，默认使用相对多数投票方法。<br>输入字符串'hard'，选择硬投票，输入字符串'soft'，选择软投票。当选择软投票方法时，只能接受可以输出概率值的算法，如SVM等间隔度量算法则不在可以融合的范围之内。|\n",
    "|weights|权重，默认为None，表示不对评估器进行加权。如果输入权重，则使用列表打包多个权重。|\n",
    "|flatten_transform|当使用软投票时，可以通过该参数选择输出的概率结构。如果为True，最终则输出结构为(n_samples, n_estimators * n_classes)的二维数组。如果为False，最终则输出结构为(n_samples,n_estimators,n_classes)的三维数组。|\n",
    "|n_jobs, verbose|线程数与模型监控|"
   ]
  },
  {
   "cell_type": "markdown",
   "id": "783ec044-c860-49e2-8347-09028d121361",
   "metadata": {},
   "source": [
    "### **1 导入所需的工具库，确认数据**"
   ]
  },
  {
   "cell_type": "code",
   "execution_count": 107,
   "id": "8c1edc3b-eebd-4b49-9756-d42af8406d42",
   "metadata": {},
   "outputs": [],
   "source": [
    "#常用工具库\n",
    "import re\n",
    "import numpy as np\n",
    "import pandas as pd\n",
    "import matplotlib as mlp\n",
    "import matplotlib.pyplot as plt\n",
    "import time\n",
    "\n",
    "#算法辅助 & 数据\n",
    "import sklearn\n",
    "from sklearn.model_selection import KFold, cross_validate\n",
    "from sklearn.datasets import load_digits #分类 - 手写数字数据集\n",
    "from sklearn.datasets import load_boston\n",
    "from sklearn.model_selection import train_test_split\n",
    "\n",
    "#算法（单一学习器）\n",
    "from sklearn.neighbors import KNeighborsClassifier as KNNC\n",
    "from sklearn.neighbors import KNeighborsRegressor as KNNR\n",
    "from sklearn.tree import DecisionTreeRegressor as DTR\n",
    "from sklearn.tree import DecisionTreeClassifier as DTC\n",
    "from sklearn.linear_model import LinearRegression as LR\n",
    "from sklearn.linear_model import LogisticRegression as LogiR\n",
    "from sklearn.ensemble import RandomForestRegressor as RFR\n",
    "from sklearn.ensemble import RandomForestClassifier as RFC\n",
    "from sklearn.ensemble import GradientBoostingRegressor as GBR\n",
    "from sklearn.ensemble import GradientBoostingClassifier as GBC\n",
    "from sklearn.naive_bayes import GaussianNB\n",
    "import xgboost as xgb\n",
    "\n",
    "#融合模型\n",
    "from sklearn.ensemble import VotingClassifier\n",
    "from sklearn.ensemble import VotingRegressor"
   ]
  },
  {
   "cell_type": "markdown",
   "id": "b1dd2352-236a-4486-9359-3a5c02df9c7c",
   "metadata": {},
   "source": [
    "在正式课程中我们将使用Kaggle数据集进行集成，在直播课程当中为了运行快速我们使用sklearn自带的手写数字数据集："
   ]
  },
  {
   "cell_type": "code",
   "execution_count": 108,
   "id": "9319532d-7b8f-48bc-86d1-ec0c5679d4a7",
   "metadata": {},
   "outputs": [],
   "source": [
    "data = load_digits()\n",
    "X = data.data\n",
    "y = data.target"
   ]
  },
  {
   "cell_type": "code",
   "execution_count": 109,
   "id": "a41cb0b0-0ad5-4d42-9849-01730991e553",
   "metadata": {},
   "outputs": [
    {
     "data": {
      "text/plain": [
       "(1797, 64)"
      ]
     },
     "execution_count": 109,
     "metadata": {},
     "output_type": "execute_result"
    }
   ],
   "source": [
    "X.shape"
   ]
  },
  {
   "cell_type": "code",
   "execution_count": 110,
   "id": "616ec74f-230f-49e6-81da-f46b46efeb9a",
   "metadata": {},
   "outputs": [
    {
     "data": {
      "text/plain": [
       "array([0, 1, 2, 3, 4, 5, 6, 7, 8, 9])"
      ]
     },
     "execution_count": 110,
     "metadata": {},
     "output_type": "execute_result"
    }
   ],
   "source": [
    "np.unique(y) #10分类"
   ]
  },
  {
   "cell_type": "code",
   "execution_count": 111,
   "id": "fe75ad0f-4fac-4e4e-9b67-433b270e1a2b",
   "metadata": {},
   "outputs": [],
   "source": [
    "Xtrain,Xtest,Ytrain,Ytest = train_test_split(X,y,test_size=0.2,random_state=1412)"
   ]
  },
  {
   "cell_type": "markdown",
   "id": "d6eca57d-c023-4f95-9187-c4703cd50424",
   "metadata": {},
   "source": [
    "我们将在Xtrain，Ytrain上进行交叉验证，并在Xtest，Ytest上进行最后的测试。**我们的目标是：交叉验证的结果尽量好（理论泛化能力强），同时测试集上的结果也需要尽量好（理论泛化能力的验证，但不完全严谨）。当两者不可兼得时，我们优先考虑交叉验证的结果（理论泛化能力强）**。"
   ]
  },
  {
   "cell_type": "markdown",
   "id": "2cc2fba0-153b-4b82-9eaa-6cead3a18b6f",
   "metadata": {},
   "source": [
    "### **2 定义交叉验证所需要的函数**"
   ]
  },
  {
   "cell_type": "code",
   "execution_count": 112,
   "id": "f10a9695-0c69-4d60-89bc-0478d4704412",
   "metadata": {},
   "outputs": [],
   "source": [
    "def individual_estimators(estimators):\n",
    "    \"\"\"\n",
    "    对模型融合中每个评估器做交叉验证，对单一评估器的表现进行评估\n",
    "    \"\"\"\n",
    "    for estimator in estimators:\n",
    "        cv = KFold(n_splits=5,shuffle=True,random_state=1412)\n",
    "        results = cross_validate(estimator[1],Xtrain,Ytrain\n",
    "                             ,cv = cv\n",
    "                             ,scoring = \"accuracy\"\n",
    "                             ,n_jobs = -1\n",
    "                             ,return_train_score = True\n",
    "                             ,verbose=False)\n",
    "        test = estimator[1].fit(Xtrain,Ytrain).score(Xtest,Ytest)\n",
    "        print(estimator[0]\n",
    "          ,\"\\n train_score:{}\".format(results[\"train_score\"].mean())\n",
    "          ,\"\\n cv_mean:{}\".format(results[\"test_score\"].mean())\n",
    "          ,\"\\n test_score:{}\".format(test)\n",
    "          ,\"\\n\")"
   ]
  },
  {
   "cell_type": "code",
   "execution_count": 113,
   "id": "29c93ccd-7755-404e-bee9-73505e31a22f",
   "metadata": {},
   "outputs": [],
   "source": [
    "def fusion_estimators(clf):\n",
    "    \"\"\"\n",
    "    对融合模型做交叉验证，对融合模型的表现进行评估\n",
    "    \"\"\"\n",
    "    cv = KFold(n_splits=5,shuffle=True,random_state=1412)\n",
    "    results = cross_validate(clf,Xtrain,Ytrain\n",
    "                             ,cv = cv\n",
    "                             ,scoring = \"accuracy\"\n",
    "                             ,n_jobs = -1\n",
    "                             ,return_train_score = True\n",
    "                             ,verbose=False)\n",
    "    test = clf.fit(Xtrain,Ytrain).score(Xtest,Ytest)\n",
    "    print(\"train_score:{}\".format(results[\"train_score\"].mean())\n",
    "          ,\"\\n cv_mean:{}\".format(results[\"test_score\"].mean())\n",
    "          ,\"\\n test_score:{}\".format(test)\n",
    "         )"
   ]
  },
  {
   "cell_type": "markdown",
   "id": "3b904285-f67b-4a20-b348-50cb43106a14",
   "metadata": {},
   "source": [
    "### **3 建立基于交叉验证的benchmark、做模型选择**"
   ]
  },
  {
   "cell_type": "markdown",
   "id": "635316af-62d8-49ee-a6fd-a60fe7164c96",
   "metadata": {},
   "source": [
    "一般在模型融合之前，我们需要将所有可能的算法都先简单运行一次，然后从中选出表现较好的算法作为融合的基础。同时，我们还可能在分数最高的单一算法上进行精确的调优，找到单一算法可以实现的最好分数来作为benchmark。毕竟，融合要求使用多个算法、自然也会在运算时间和算力上有所要求，如果单一算法的结果能够胜过融合，那我们优秀选择单一算法。在公开课当中，鉴于有限的时间，我为大家挑选了几个算法用于展示投票法融合的实力。我们使用备选分类器中的逻辑回归作为benchmark。"
   ]
  },
  {
   "cell_type": "code",
   "execution_count": 327,
   "id": "a9f4f52b-3c6a-4071-b62a-ff6a92cc0952",
   "metadata": {},
   "outputs": [],
   "source": [
    "logi = LogiR(max_iter=3000, n_jobs=8) #初始情况下给与一个较大的max_iter，方便迭代到收敛"
   ]
  },
  {
   "cell_type": "code",
   "execution_count": 328,
   "id": "90d905ad-32c5-407e-b656-0a6be81ec3e4",
   "metadata": {},
   "outputs": [
    {
     "name": "stdout",
     "output_type": "stream",
     "text": [
      "train_score:1.0 \n",
      " cv_mean:0.9666061749903212 \n",
      " test_score:0.9527777777777777\n"
     ]
    }
   ],
   "source": [
    "fusion_estimators(logi) #正处于过拟合状态，需要调整"
   ]
  },
  {
   "cell_type": "markdown",
   "id": "c7e77ea6-babb-4f5c-891d-3cb7fdfdc5b7",
   "metadata": {},
   "source": [
    "### **4 构建多组分类器，进行融合**\n",
    "\n",
    "- **第一组分类器**：放任自由，收敛为主，有较高过拟合风险"
   ]
  },
  {
   "cell_type": "code",
   "execution_count": 346,
   "id": "fc9f493c-9661-4960-b616-bc4c6cd981fa",
   "metadata": {},
   "outputs": [],
   "source": [
    "clf1 = LogiR(max_iter = 3000,random_state=1412,n_jobs=8)\n",
    "clf2 = RFC(n_estimators= 100,random_state=1412,n_jobs=8)\n",
    "clf3 = GBC(n_estimators= 100,random_state=1412)\n",
    "\n",
    "estimators = [(\"Logistic Regression\",clf1), (\"RandomForest\", clf2), (\"GBDT\",clf3)]\n",
    "clf = VotingClassifier(estimators,voting=\"soft\")"
   ]
  },
  {
   "cell_type": "code",
   "execution_count": 330,
   "id": "fbc7eee7-1ccd-45d4-b065-337f70e687c6",
   "metadata": {},
   "outputs": [
    {
     "name": "stdout",
     "output_type": "stream",
     "text": [
      "Logistic Regression \n",
      " train_score:1.0 \n",
      " cv_mean:0.9666061749903212 \n",
      " test_score:0.9527777777777777 \n",
      "\n",
      "RandomForest \n",
      " train_score:1.0 \n",
      " cv_mean:0.9763574332171892 \n",
      " test_score:0.9833333333333333 \n",
      "\n",
      "GBDT \n",
      " train_score:1.0 \n",
      " cv_mean:0.9686943476577623 \n",
      " test_score:0.9388888888888889 \n",
      "\n"
     ]
    }
   ],
   "source": [
    "individual_estimators(estimators)"
   ]
  },
  {
   "cell_type": "markdown",
   "id": "4323aa6f-9e35-4bf2-9651-661188185a58",
   "metadata": {},
   "source": [
    "不难发现，每个模型在训练集上的分数都达到了1，但交叉验证分数大约在96%~97%之间，与逻辑回归的benchmark展现出来的结果相同。模型都存在一定的过拟合情况，其中GBDT在测试数据上表现出来的泛化能力有很大的问题，需要较为激进的调整。"
   ]
  },
  {
   "cell_type": "code",
   "execution_count": 331,
   "id": "1f16e91a-87ba-4176-83e1-5004f3315666",
   "metadata": {},
   "outputs": [
    {
     "name": "stdout",
     "output_type": "stream",
     "text": [
      "train_score:1.0 \n",
      " cv_mean:0.9777390631049168 \n",
      " test_score:0.9805555555555555\n"
     ]
    }
   ],
   "source": [
    "fusion_estimators(clf)"
   ]
  },
  {
   "cell_type": "markdown",
   "id": "7b824451-a6ef-472c-92c8-0c6bc7a615be",
   "metadata": {},
   "source": [
    "很明显，通过集成模型的表现有了显著提升，交叉验证分数（97.77%）比任何单一学习器都高，且在测试集上的表现提升到了98.05%，可见当前数据下模型融合的效果十分显著。"
   ]
  },
  {
   "cell_type": "markdown",
   "id": "b4acdb63-8064-47a3-ae6c-fe4dd61a2e65",
   "metadata": {},
   "source": [
    "||benchmark|基础融合|\n",
    "|:-:|:-:|:-:|\n",
    "|5折交叉验证|0.9666|<font color=\"green\">**0.9777(↑)**</font>|\n",
    "|测试集结果|0.9527|<font color=\"green\">**0.9805(↑)**</font>|"
   ]
  },
  {
   "cell_type": "markdown",
   "id": "90d16f3b-aaa0-4572-8183-96b47c83fb20",
   "metadata": {},
   "source": [
    "当然了，并不是任意评估器、任意数据上都能够看到如此一目了然的结果。如果你进行投票或平均融合之后，融合的结果反而没有单个算法好，那你可能是落入了投票法与平均法会失效的几大陷阱：\n",
    "\n",
    "> 1. **评估器之间的学习能力/模型表现差异太大**。在融合中，一个表现很差的模型会拉低整个融合模型的上限，尤其是回归类算法，当一个模型的表现很差时，平均法得出的结果很难比最好的单一算法还好。因此我们必须要使用表现相似的模型进行融合。如果你的评估器中有拖后腿的模型，无论这个模型有多么先进，都应该立刻把它剔除融合模型。<br><br>\n",
    "> 2. **评估器在类型上太相似**，比如、全是树模型、都是Boosting算法，或都是线性评估器等。如果评估器类别太相似，模型融合会发挥不出作用，这在直觉上其实很好理解：如果平均/投票的评估器都一致，那融合模型最终得出的结果也会与单个评估器一致。<br><br>\n",
    "> 3. **对评估器进行了过于精密的调优**。一般来说，我们可能会认为，先对模型进行调优后再融合，能够进一步提升模型的表现。经过粗略调优的评估器融合确实能提升模型表现，但如果对评估器进行过于精密的调优，可能会让融合后的算法处于严重过拟合的状态。因此，一般我们不会在评估器上进行太精准的调优。"
   ]
  },
  {
   "cell_type": "markdown",
   "id": "57678bd0-0ecd-4222-af73-e5f28de289ac",
   "metadata": {},
   "source": [
    "★"
   ]
  },
  {
   "cell_type": "markdown",
   "id": "4512c28f-c155-4ad9-8a40-59b42e7ffcdf",
   "metadata": {},
   "source": [
    "- **第二组分类器**：略微调参（非精细化调参），限制过拟合"
   ]
  },
  {
   "cell_type": "markdown",
   "id": "c52c5709-6e7d-4a33-9145-db6eb61c53d1",
   "metadata": {},
   "source": [
    "模型融合是一个可能加剧过拟合的手段，因此我们必须保证每一个学习器本身的过拟合不严重，为此我们需要对模型进行抗过拟合的处理。需要注意的是，扛过拟合可能会削弱模型的预测效果，因此我们必须根据过拟合的情况、泛化能力的展现来进行选择。对于逻辑回归，我们需要缩小参数`C`，对随机森林我们选择`max_depth`，对GBDT我们则选择`max_features`。其中，森林的树深需要使用tree_模块来查看："
   ]
  },
  {
   "cell_type": "code",
   "execution_count": 116,
   "id": "3d1d97e1-af35-4a0e-900b-c96a061ca784",
   "metadata": {
    "collapsed": true,
    "jupyter": {
     "outputs_hidden": true
    },
    "tags": []
   },
   "outputs": [
    {
     "name": "stdout",
     "output_type": "stream",
     "text": [
      "13\n",
      "13\n",
      "15\n",
      "15\n",
      "13\n",
      "13\n",
      "13\n",
      "14\n",
      "12\n",
      "13\n",
      "15\n",
      "13\n",
      "12\n",
      "15\n",
      "13\n",
      "13\n",
      "15\n",
      "12\n",
      "13\n",
      "13\n",
      "15\n",
      "13\n",
      "12\n",
      "14\n",
      "15\n",
      "14\n",
      "12\n",
      "14\n",
      "15\n",
      "13\n",
      "12\n",
      "12\n",
      "14\n",
      "13\n",
      "12\n",
      "13\n",
      "14\n",
      "13\n",
      "12\n",
      "14\n",
      "14\n",
      "14\n",
      "12\n",
      "14\n",
      "13\n",
      "13\n",
      "14\n",
      "10\n",
      "13\n",
      "12\n",
      "15\n",
      "14\n",
      "12\n",
      "12\n",
      "14\n",
      "13\n",
      "12\n",
      "15\n",
      "12\n",
      "14\n",
      "12\n",
      "15\n",
      "13\n",
      "13\n",
      "12\n",
      "13\n",
      "14\n",
      "12\n",
      "14\n",
      "12\n",
      "14\n",
      "12\n",
      "14\n",
      "12\n",
      "14\n",
      "14\n",
      "14\n",
      "14\n",
      "12\n",
      "13\n",
      "14\n",
      "15\n",
      "14\n",
      "15\n",
      "14\n",
      "13\n",
      "14\n",
      "13\n",
      "12\n",
      "12\n",
      "12\n",
      "13\n",
      "14\n",
      "12\n",
      "15\n",
      "14\n",
      "12\n",
      "13\n",
      "11\n",
      "13\n"
     ]
    }
   ],
   "source": [
    "#查看随机森林中的深度\n",
    "clf2.fit(Xtrain,Ytrain)\n",
    "for i in clf2.estimators_[:100]:\n",
    "    print(i.tree_.max_depth)"
   ]
  },
  {
   "cell_type": "code",
   "execution_count": 353,
   "id": "7d7be109-9f2e-461f-afc3-39b3f778fb80",
   "metadata": {},
   "outputs": [],
   "source": [
    "clf1 = LogiR(max_iter = 3000, C=0.1, random_state=1412,n_jobs=8) #这一组合可能说明我们的max_iter设置得太大了\n",
    "clf2 = RFC(n_estimators= 100,max_depth=12,random_state=1412,n_jobs=8)\n",
    "clf3 = GBC(n_estimators= 100,max_features=\"sqrt\",random_state=1412)\n",
    "\n",
    "estimators = [(\"Logistic Regression\",clf1), (\"RandomForest\", clf2), (\"GBDT\",clf3)]\n",
    "clf = VotingClassifier(estimators,voting=\"soft\")"
   ]
  },
  {
   "cell_type": "code",
   "execution_count": 354,
   "id": "b409b349-6f6f-4aca-87ec-e971fd5d457a",
   "metadata": {},
   "outputs": [
    {
     "name": "stdout",
     "output_type": "stream",
     "text": [
      "Logistic Regression \n",
      " train_score:1.0 \n",
      " cv_mean:0.9666085946573751 \n",
      " test_score:0.9638888888888889 \n",
      "\n",
      "RandomForest \n",
      " train_score:1.0 \n",
      " cv_mean:0.972875532326752 \n",
      " test_score:0.9805555555555555 \n",
      "\n",
      "GBDT \n",
      " train_score:1.0 \n",
      " cv_mean:0.9777342237708091 \n",
      " test_score:0.9722222222222222 \n",
      "\n"
     ]
    }
   ],
   "source": [
    "individual_estimators(estimators)"
   ]
  },
  {
   "cell_type": "markdown",
   "id": "2b242b62-ce45-4d0c-a7c9-973a8aac57a8",
   "metadata": {},
   "source": [
    "针对逻辑回归的调整效果不是非常明显，交叉验证的分数并未得到明显提升，但测试集上的结果上升，说明模型的泛化能力变得更加稳定了。但C参数是很少小于0.5的，我们现在得出的结果可能说明模型的权重是非常非常小的数，所以我们必须给与很小的C才能够加强过拟合的影响。随机森林的过拟合变得更加严重了，这说明我们限制过拟合对模型带来的伤害大于对模型的帮助，因此随机森林的过拟合是失败的，应该取消这种过拟合限制。GBDT的过拟合调整是非常成功的，交叉验证分数上升的同时，测试集上的分数也得到了大幅提升。结论是，我们保留对逻辑回归和GBDT的调整，撤销对随机森林的调整："
   ]
  },
  {
   "cell_type": "code",
   "execution_count": 356,
   "id": "455547bb-0468-4620-8a99-5793f196e01a",
   "metadata": {},
   "outputs": [],
   "source": [
    "clf1 = LogiR(max_iter = 3000, C=0.1, random_state=1412,n_jobs=8) #这一组合可能说明我们的max_iter设置得太大了\n",
    "clf2 = RFC(n_estimators= 100,random_state=1412,n_jobs=8)\n",
    "clf3 = GBC(n_estimators= 100,max_features=\"sqrt\",random_state=1412)\n",
    "\n",
    "estimators = [(\"Logistic Regression\",clf1), (\"RandomForest\", clf2), (\"GBDT\",clf3)]\n",
    "clf = VotingClassifier(estimators,voting=\"soft\")"
   ]
  },
  {
   "cell_type": "code",
   "execution_count": 357,
   "id": "bb78a021-c9a2-4e23-9b27-9a37eb936269",
   "metadata": {},
   "outputs": [
    {
     "name": "stdout",
     "output_type": "stream",
     "text": [
      "train_score:1.0 \n",
      " cv_mean:0.9777463221060783 \n",
      " test_score:0.9861111111111112\n"
     ]
    }
   ],
   "source": [
    "fusion_estimators(clf)"
   ]
  },
  {
   "cell_type": "markdown",
   "id": "25d611e3-f889-427b-a5ec-76a739c11c2a",
   "metadata": {},
   "source": [
    "||benchmark|基础融合|抗过拟合|\n",
    "|:-:|:-:|:-:|:-:|\n",
    "|5折交叉验证|0.9666|<font color=\"green\">**0.9777(↑)**</font>|<font color=\"gray\">**0.9777(-)**</font>|\n",
    "|测试集结果|0.9527|<font color=\"green\">**0.9805(↑)**</font>|<font color=\"green\">**0.9861(↑)**</font>|"
   ]
  },
  {
   "cell_type": "markdown",
   "id": "5282ced6-4b20-4d0e-93b1-45ba1dcf234f",
   "metadata": {},
   "source": [
    "可以看到，经过过拟合调整后，模型的交叉验证分数与测试集上的分数都上升了，不过交叉验证分数是轻微上升（从0.9777392上升至0.9777463），这轻微的上升可以忽略不计。测试集上的分数则有了0.06%的提升，是一个显著的进步。"
   ]
  },
  {
   "cell_type": "markdown",
   "id": "3c278871-bb41-4ab1-8ad0-db472e91d41e",
   "metadata": {},
   "source": [
    "### 5 构建多样性"
   ]
  },
  {
   "cell_type": "markdown",
   "id": "50cef88d-594c-4459-a908-29a1893de8b3",
   "metadata": {},
   "source": [
    "在各个模型的过拟合情况较好、且模型稳定的情况下，我们要从哪个角度入手开始提升融合模型的表现呢？虽然我们不了解投票法的数学细节，但我们十分了解Bagging算法，比如随机森林的数学细节——我在<font color=\"red\">**《2022机器学习正课》**</font>当中为大家详细证明了，为什么随机森林的结果会好于单个算法，并且列出了随机森林的结果好于单个算法的关键条件：**评估器之间相互独立**。评估器之间的独立性越强，则模型从平均/投票当中获得的方差减少就越大，模型整体的泛化能力就越强。\n",
    "\n",
    "无论是投票法还是平均法，都与Bagging算法有异曲同工之妙，因此我们相信“独立性”也有助于提升投票融合与平均融合的效果。在模型融合当中，独立性被称为“多样性”（diversity），**评估器之间的差别越大、彼此之间就越独立，因此评估器越多样，独立性就越强**。完全独立的评估器在现实中几乎不可能实现，因为不同的算法执行的是相同的预测任务，更何况大多数时候算法们都在相同的数据上训练，因此评估器不可能完全独立。但我们有以下关键的手段，用来让评估器变得更多样、让评估器之间相对独立：\n",
    "\n",
    "> - **训练数据多样性**：完成多组有效的特征工程，使用不同的特征矩阵训练不同的模型。该方法一般能够得到很好的效果，但如何找出多组有效的特征工程是难题。<br><br>\n",
    "> - **样本多样性**：使用相同特征矩阵，但每次训练时抽样出不同的样本子集进行训练。当数据量较小时，抽样样本可能导致模型效果急剧下降。<br><br>\n",
    "> - **特征多样性**：使用相同特征矩阵，但每次训练时抽样出不同的特征子集进行训练。当特征量较小时，抽样特征可能导致模型效果急剧下降。<br><br>\n",
    "> - **随机多样性/训练多样性**：使用相同的算法，但使用不同的随机数种子（会导致使用不同的特征、样本、起点）、或使用不同的损失函数、使用不同的不纯度下降量等。这一方法相当于是在使用Bagging集成。<br><br>\n",
    "> - **算法多样性**：增加类型不同的算法，如集成、树、概率、线性模型相混合。但需要注意的是，模型的效果不能太糟糕，无论是投票还是平均法，如果模型效果太差，可能大幅度降低融合的结果。"
   ]
  },
  {
   "cell_type": "markdown",
   "id": "6b7c8eeb-c9f0-445f-a464-f0efca9fca87",
   "metadata": {},
   "source": [
    "增加多样性的操作或多或少都阻止了模型学习完整的数据，因此会削弱模型对数据的学习，可能降低模型的效果。因此我们使用多样性时，需要时刻关注着模型的结果。"
   ]
  },
  {
   "cell_type": "markdown",
   "id": "d35e2344-56b8-4c67-9fa6-862d7c3c20dc",
   "metadata": {},
   "source": [
    "#### 5.1 多种多样性混合"
   ]
  },
  {
   "cell_type": "code",
   "execution_count": 77,
   "id": "05f0e865-4f4c-4c3d-b1e7-284a6b46c004",
   "metadata": {},
   "outputs": [],
   "source": [
    "#逻辑回归没有增加多样性的选项\n",
    "clf1 = LogiR(max_iter = 3000, C=0.1, random_state=1412,n_jobs=8)\n",
    "#增加特征多样性与样本多样性\n",
    "clf2 = RFC(n_estimators= 100,max_features=\"sqrt\",max_samples=0.9, random_state=1412,n_jobs=8)\n",
    "#特征多样性，稍微上调特征数量\n",
    "clf3 = GBC(n_estimators= 100,max_features=16,random_state=1412) \n",
    "\n",
    "#增加算法多样性，新增决策树与KNN\n",
    "clf4 = DTC(max_depth=8,random_state=1412)\n",
    "clf5 = KNNC(n_neighbors=10,n_jobs=8)\n",
    "clf6 = GaussianNB()\n",
    "\n",
    "#新增随机多样性，相同的算法更换随机数种子\n",
    "clf7 = RFC(n_estimators= 100,max_features=\"sqrt\",max_samples=0.9, random_state=4869,n_jobs=8)\n",
    "clf8 = GBC(n_estimators= 100,max_features=16,random_state=4869)\n",
    "\n",
    "estimators = [(\"Logistic Regression\",clf1), (\"RandomForest\", clf2)\n",
    "              , (\"GBDT\",clf3), (\"Decision Tree\", clf4), (\"KNN\",clf5) \n",
    "              , (\"Bayes\",clf6), (\"RandomForest2\", clf7), (\"GBDT2\", clf8)\n",
    "             ]\n",
    "clf = VotingClassifier(estimators,voting=\"soft\")"
   ]
  },
  {
   "cell_type": "code",
   "execution_count": 78,
   "id": "72ff31d1-d9dc-46f2-b3b2-0a6f1b14f3e3",
   "metadata": {},
   "outputs": [
    {
     "name": "stdout",
     "output_type": "stream",
     "text": [
      "Logistic Regression \n",
      " train_score:1.0 \n",
      " cv_mean:0.9666085946573751 \n",
      " test_score:0.9638888888888889 \n",
      "\n",
      "RandomForest \n",
      " train_score:1.0 \n",
      " cv_mean:0.9735699767711964 \n",
      " test_score:0.9777777777777777 \n",
      "\n",
      "GBDT \n",
      " train_score:1.0 \n",
      " cv_mean:0.9777414827719705 \n",
      " test_score:0.9722222222222222 \n",
      "\n",
      "Decision Tree \n",
      " train_score:0.9509369962538313 \n",
      " cv_mean:0.8552821331784747 \n",
      " test_score:0.8527777777777777 \n",
      "\n",
      "KNN \n",
      " train_score:0.9832990502137966 \n",
      " cv_mean:0.9763429152148664 \n",
      " test_score:0.9833333333333333 \n",
      "\n",
      "Bayes \n",
      " train_score:0.8295060354940024 \n",
      " cv_mean:0.8086285327138987 \n",
      " test_score:0.7888888888888889 \n",
      "\n",
      "RandomForest2 \n",
      " train_score:1.0 \n",
      " cv_mean:0.9749491869918699 \n",
      " test_score:0.9833333333333333 \n",
      "\n",
      "GBDT2 \n",
      " train_score:1.0 \n",
      " cv_mean:0.9770446186604724 \n",
      " test_score:0.975 \n",
      "\n"
     ]
    }
   ],
   "source": [
    "individual_estimators(estimators)"
   ]
  },
  {
   "cell_type": "code",
   "execution_count": 79,
   "id": "9a1318d7-9c3f-45ca-a7c2-73a5e49cae43",
   "metadata": {},
   "outputs": [
    {
     "name": "stdout",
     "output_type": "stream",
     "text": [
      "train_score:1.0 \n",
      " cv_mean:0.9826098528842431 \n",
      " test_score:0.9805555555555555\n"
     ]
    }
   ],
   "source": [
    "fusion_estimators(clf)"
   ]
  },
  {
   "cell_type": "markdown",
   "id": "92608f9f-e114-4013-a3d1-846f83eada82",
   "metadata": {},
   "source": [
    "#### 5.2 剔除表现不良的算法，继续观察"
   ]
  },
  {
   "cell_type": "code",
   "execution_count": 81,
   "id": "b5afa82c-d99c-49b6-8ebc-161eef8dedb3",
   "metadata": {},
   "outputs": [],
   "source": [
    "estimators = [(\"Logistic Regression\",clf1), (\"RandomForest\", clf2)\n",
    "              , (\"GBDT\",clf3), (\"Decision Tree\", clf4), (\"KNN\",clf5) \n",
    "              #, (\"Bayes\",clf6) 贝叶斯在训练集上的分数很低，这说明模型的学习能力不足\n",
    "              , (\"RandomForest2\", clf7), (\"GBDT2\", clf8)\n",
    "             ]\n",
    "clf = VotingClassifier(estimators,voting=\"soft\")"
   ]
  },
  {
   "cell_type": "code",
   "execution_count": 82,
   "id": "06555cb3-9f23-41dd-8b04-f82f95502ea2",
   "metadata": {},
   "outputs": [
    {
     "name": "stdout",
     "output_type": "stream",
     "text": [
      "Logistic Regression \n",
      " train_score:1.0 \n",
      " cv_mean:0.9666085946573751 \n",
      " test_score:0.9638888888888889 \n",
      "\n",
      "RandomForest \n",
      " train_score:1.0 \n",
      " cv_mean:0.9735699767711964 \n",
      " test_score:0.9777777777777777 \n",
      "\n",
      "GBDT \n",
      " train_score:1.0 \n",
      " cv_mean:0.9777414827719705 \n",
      " test_score:0.9722222222222222 \n",
      "\n",
      "Decision Tree \n",
      " train_score:0.9509369962538313 \n",
      " cv_mean:0.8552821331784747 \n",
      " test_score:0.8527777777777777 \n",
      "\n",
      "KNN \n",
      " train_score:0.9832990502137966 \n",
      " cv_mean:0.9763429152148664 \n",
      " test_score:0.9833333333333333 \n",
      "\n",
      "RandomForest2 \n",
      " train_score:1.0 \n",
      " cv_mean:0.9749491869918699 \n",
      " test_score:0.9833333333333333 \n",
      "\n",
      "GBDT2 \n",
      " train_score:1.0 \n",
      " cv_mean:0.9770446186604724 \n",
      " test_score:0.975 \n",
      "\n"
     ]
    }
   ],
   "source": [
    "individual_estimators(estimators)"
   ]
  },
  {
   "cell_type": "code",
   "execution_count": 83,
   "id": "84660967-42cd-41ad-b919-3bb2c142e56d",
   "metadata": {},
   "outputs": [
    {
     "name": "stdout",
     "output_type": "stream",
     "text": [
      "train_score:1.0 \n",
      " cv_mean:0.9833067169957413 \n",
      " test_score:0.9833333333333333\n"
     ]
    }
   ],
   "source": [
    "fusion_estimators(clf)"
   ]
  },
  {
   "cell_type": "markdown",
   "id": "aff3d944-cc68-4a46-8c3b-52ccb7cc7185",
   "metadata": {},
   "source": [
    "#### 5.3 尝试精简多样性"
   ]
  },
  {
   "cell_type": "code",
   "execution_count": 90,
   "id": "292450f5-6a42-44a1-b1a5-bacd4509d8e1",
   "metadata": {},
   "outputs": [],
   "source": [
    "estimators = [(\"Logistic Regression\",clf1), (\"RandomForest\", clf2)\n",
    "              , (\"GBDT\",clf3), (\"Decision Tree\", clf4), (\"KNN\",clf5) \n",
    "              #, (\"Bayes\",clf6), (\"RandomForest2\", clf7), (\"GBDT2\", clf8)\n",
    "             ]\n",
    "clf = VotingClassifier(estimators,voting=\"soft\")"
   ]
  },
  {
   "cell_type": "code",
   "execution_count": 91,
   "id": "297f05b4-1cf1-4e47-b6f0-0193c2fcd6a7",
   "metadata": {},
   "outputs": [
    {
     "name": "stdout",
     "output_type": "stream",
     "text": [
      "Logistic Regression \n",
      " train_score:1.0 \n",
      " cv_mean:0.9666085946573751 \n",
      " test_score:0.9638888888888889 \n",
      "\n",
      "RandomForest \n",
      " train_score:1.0 \n",
      " cv_mean:0.9735699767711964 \n",
      " test_score:0.9777777777777777 \n",
      "\n",
      "GBDT \n",
      " train_score:1.0 \n",
      " cv_mean:0.9777414827719705 \n",
      " test_score:0.9722222222222222 \n",
      "\n",
      "Decision Tree \n",
      " train_score:0.9509369962538313 \n",
      " cv_mean:0.8552821331784747 \n",
      " test_score:0.8527777777777777 \n",
      "\n",
      "KNN \n",
      " train_score:0.9832990502137966 \n",
      " cv_mean:0.9763429152148664 \n",
      " test_score:0.9833333333333333 \n",
      "\n"
     ]
    }
   ],
   "source": [
    "individual_estimators(estimators)"
   ]
  },
  {
   "cell_type": "code",
   "execution_count": 92,
   "id": "a019c241-9e88-4dcb-9ef6-5ace19df2a29",
   "metadata": {},
   "outputs": [
    {
     "name": "stdout",
     "output_type": "stream",
     "text": [
      "train_score:1.0 \n",
      " cv_mean:0.9819129887727449 \n",
      " test_score:0.9888888888888889\n"
     ]
    }
   ],
   "source": [
    "fusion_estimators(clf)"
   ]
  },
  {
   "cell_type": "markdown",
   "id": "6ca91a56-b667-46bd-a7c3-479339d357a5",
   "metadata": {},
   "source": [
    "||benchmark|基础融合|抗过拟合|复合多样性|精简多样性|\n",
    "|:-:|:-:|:-:|:-:|:-:|:-:|\n",
    "|5折交叉验证|0.9666|<font color=\"green\">**0.9777(↑)**</font>|<font color=\"gray\">**0.9777(-)**</font>|<font color=\"green\">**0.98331(↑)**</font>|<font color=\"brown\">**0.9819(↓)**</font>|\n",
    "|测试集结果|0.9527|<font color=\"green\">**0.9805(↑)**</font>|<font color=\"green\">**0.9861(↑)**</font>|<font color=\"brown\">**0.98333(↓)**</font>|<font color=\"green\">**0.9889(↑)**</font>|"
   ]
  },
  {
   "cell_type": "markdown",
   "id": "2b8b9e84-4b52-40e9-9983-e2b06ddb0916",
   "metadata": {},
   "source": [
    "在增加算法多样性的过程中，我们尝试了多种算法组合。我们发现朴素贝叶斯对算法的伤害大于贡献，只要将朴素贝叶斯包括在融合算法内，算法的表现就持续停留在97%左右，无法继续上升。因此我们删除了朴素贝叶斯算法。同时，包含随机多样性的算法组合在交叉验证与测试集结果上的表现高度一致，其中测试集结果略有降低、交叉验证结果提升了不少，这是一组可以使用的结果。但考虑到运算的效率，我们尽量不增加运算缓慢的集成算法，因此我们又将随机多样性删除，观察只包含5个算法的融合模型，最终交叉验证上的结果略有降低、测试集结果突破新高，这也是一组可以使用的结果。从模型的稳定性来考虑，还是包含随机多样性的组合更好，但为了更快的运算速率，我们可以使用精简多样性继续往下计算。至此，我们的融合模型就构建完毕了，接下来我们来调整融合模型。"
   ]
  },
  {
   "cell_type": "markdown",
   "id": "8959ee4a-bbe5-46ee-8b60-7365bcbcdc42",
   "metadata": {},
   "source": [
    "### **6. 分类器加权**"
   ]
  },
  {
   "cell_type": "markdown",
   "id": "18f8c794-9b3e-4135-8d63-e8564db64e4b",
   "metadata": {},
   "source": [
    "对分类器加权是一个常见的操作，但如何选择权重却是整个模型融合过程中最令人头疼的问题——头疼主要在于，没有可以完全依赖的理论基础或数学公式去进行权重推导（或者说推导出来的权重基于过多假设、无法使用），同时费了很大精力求解出的权重可能对模型的效果完全没有影响。因此，在融合中加权是一个不经济的选项。但一般来说，我们还是会尝试几组权重来探索一下，模型是否还有提升的空间。\n",
    "\n",
    "在机器学习算法中，只有一类算法对于评估器权重有自己的见解，那就是Boosting算法。在大部分Boosting集成过程中，我们会对每一个弱评估器求解其权重，并让权重作为迭代的一部分构建模型。那我们通常如何决定模型权重呢？在AdaBoost和XGBoost当中，我们都设立了用于衡量单个弱评估器置信度的某个指标，如果一个弱评估器的置信度越高，我们给与这个评估器的权重就越大。在Boosting算法中，置信度往往使用损失函数或损失函数的某种变体进行衡量，如果损失函数越大，则说明评估器的置信度越低，反之，则说明评估器的置信度越高。我们可以沿用这个思路，在模型融合中，我们会考虑的第一组权重，就是模型实际评估结果之间的比例。\n",
    "\n",
    "如果模型评估指标是准确率这样的正向指标，则直接使用准确率作为权重。如果模型评估指标是MSE这样的负向指标，则使用1-指标或负指标作为权重。这样做的风险在于，模型可能陷入严重过拟合，但值得一试："
   ]
  },
  {
   "cell_type": "markdown",
   "id": "f21703c9-7d57-4801-ae72-1227bf81875a",
   "metadata": {},
   "source": [
    "- 第一种选项：使用各个模型交叉验证结果本身作为权重，有过拟合风险"
   ]
  },
  {
   "cell_type": "code",
   "execution_count": 98,
   "id": "1e09ea07-2324-4f62-b871-56001b3474a0",
   "metadata": {},
   "outputs": [],
   "source": [
    "estimators = [(\"Logistic Regression\",clf1), (\"RandomForest\", clf2)\n",
    "              , (\"GBDT\",clf3), (\"Decision Tree\", clf4), (\"KNN\",clf5)]"
   ]
  },
  {
   "cell_type": "code",
   "execution_count": 99,
   "id": "1cd2f6d8-c842-4d5a-9bc8-ff944c0bb621",
   "metadata": {},
   "outputs": [],
   "source": [
    "clf_weighted = VotingClassifier(estimators,voting=\"soft\",weights=[0.96660,0.97357,0.97774,0.85528,0.97634])"
   ]
  },
  {
   "cell_type": "code",
   "execution_count": 97,
   "id": "d6e71b14-7967-4112-a69d-0c3565616dce",
   "metadata": {},
   "outputs": [
    {
     "name": "stdout",
     "output_type": "stream",
     "text": [
      "train_score:1.0 \n",
      " cv_mean:0.9826098528842431 \n",
      " test_score:0.9888888888888889\n"
     ]
    }
   ],
   "source": [
    "fusion_estimators(clf_weighted)"
   ]
  },
  {
   "cell_type": "markdown",
   "id": "69655118-3212-4afc-b3db-a54e3d19a7fb",
   "metadata": {},
   "source": [
    "可以看到，模型在交叉验证上的效果提升了！模型没有陷入过拟合，这是一个很好的消息。接下来，我们可以尝试使用更粗糙的权重来提升模型表现。一般来说，这个操作可以一定程度上缓解模型的过拟合："
   ]
  },
  {
   "cell_type": "markdown",
   "id": "6a5b4d1b-1be7-4728-8f36-7ba5c204473b",
   "metadata": {},
   "source": [
    "- 第二种选项：稍微降低权重精度，或许可以一定程度上抵消过拟合"
   ]
  },
  {
   "cell_type": "code",
   "execution_count": 20,
   "id": "3ad70fe0-a83d-4b64-90e8-3efebddf8d34",
   "metadata": {},
   "outputs": [],
   "source": [
    "clf_weighted = VotingClassifier(estimators,voting=\"soft\",weights=[0.95,0.95,0.95,0.85,0.98])"
   ]
  },
  {
   "cell_type": "code",
   "execution_count": 21,
   "id": "bf201705-8013-4974-ba3d-670093ebff9e",
   "metadata": {},
   "outputs": [
    {
     "name": "stdout",
     "output_type": "stream",
     "text": [
      "train_score:1.0 \n",
      " cv_mean:0.9826098528842431 \n",
      " test_score:0.9888888888888889\n"
     ]
    }
   ],
   "source": [
    "fusion_estimators(clf_weighted)"
   ]
  },
  {
   "cell_type": "markdown",
   "id": "0dcae915-bc63-4912-9603-e0b98fcf562d",
   "metadata": {},
   "source": [
    "可以看到，模型的表现并无变化，这说明对当前数据来说，精确的权重与粗略的权重差异不大。接下来，我们可以尝试调整模型中效果最好、或效果最差的算法的权重。一般，可以尝试加大效果好的算法的权重，减小效果差的算法的权重："
   ]
  },
  {
   "cell_type": "markdown",
   "id": "9572e932-7055-4271-a3c7-a9973dad8d8c",
   "metadata": {},
   "source": [
    "- 第三种选项：加大效果好的算法的权重，减小效果差的算法的权重"
   ]
  },
  {
   "cell_type": "code",
   "execution_count": 100,
   "id": "81c23953-e743-4ee6-900f-8a8bb8b68af9",
   "metadata": {},
   "outputs": [],
   "source": [
    "clf_weighted = VotingClassifier(estimators,voting=\"soft\",weights=[0.95,0.95,0.95,0.85,1.2]) #增大"
   ]
  },
  {
   "cell_type": "code",
   "execution_count": 101,
   "id": "2f37261c-d068-4a2c-9911-2b67a7053cf5",
   "metadata": {},
   "outputs": [
    {
     "name": "stdout",
     "output_type": "stream",
     "text": [
      "train_score:1.0 \n",
      " cv_mean:0.9826098528842431 \n",
      " test_score:0.9861111111111112\n"
     ]
    }
   ],
   "source": [
    "fusion_estimators(clf_weighted)"
   ]
  },
  {
   "cell_type": "markdown",
   "id": "9810a118-626a-4301-a205-0aeaff6f4a78",
   "metadata": {},
   "source": [
    "不难发现，过拟合开始发生了，测试集上的结果开始降低。因此我们选择不加大效果好的算法的权重。"
   ]
  },
  {
   "cell_type": "code",
   "execution_count": 103,
   "id": "6aa38470-709e-467a-ac45-cc01985c5508",
   "metadata": {},
   "outputs": [],
   "source": [
    "clf_weighted = VotingClassifier(estimators,voting=\"soft\",weights=[0.95,0.95,0.95,0.3,0.98]) #减小"
   ]
  },
  {
   "cell_type": "code",
   "execution_count": 104,
   "id": "620f45a7-305b-4f19-84a6-00ad340c2a6b",
   "metadata": {},
   "outputs": [
    {
     "name": "stdout",
     "output_type": "stream",
     "text": [
      "train_score:1.0 \n",
      " cv_mean:0.9833067169957413 \n",
      " test_score:0.9888888888888889\n"
     ]
    }
   ],
   "source": [
    "fusion_estimators(clf_weighted)"
   ]
  },
  {
   "cell_type": "markdown",
   "id": "2d25d391-a389-4d2a-8f80-604a41d628b7",
   "metadata": {},
   "source": [
    "模型达到了目前为止，在5折交叉验证及测试分数上的最高值。现在我们给与决策树的权重非常小，说明现在决策树只是在提供多样性，在实际预测方面做出的贡献较少。提供多样性可以让模型的泛化能力增强，让实际预测方面的贡献变小又可以降低决策树本身较低的预测分数带来的影响。至此，我们就得到了一个很好的融合结果。"
   ]
  },
  {
   "cell_type": "markdown",
   "id": "11368fee-7adf-4b86-b3e9-f851dd704db8",
   "metadata": {},
   "source": [
    "||benchmark|基础融合|抗过拟合|复合多样性|精简多样性|权重调整|\n",
    "|:-:|:-:|:-:|:-:|:-:|:-:|:-:|\n",
    "|5折交叉验证|0.9666|<font color=\"green\">**0.9777(↑)**</font>|<font color=\"gray\">**0.9777(-)**</font>|<font color=\"green\">**0.98331(↑)**</font>|<font color=\"brown\">**0.9819(↓)**</font>|**0.9833**|\n",
    "|测试集结果|0.9527|<font color=\"green\">**0.9805(↑)**</font>|<font color=\"green\">**0.9861(↑)**</font>|<font color=\"brown\">**0.98333(↓)**</font>|<font color=\"green\">**0.9889(↑)**</font>|**0.9889**|"
   ]
  },
  {
   "cell_type": "code",
   "execution_count": null,
   "id": "f3e029cc-7136-4b05-8f1c-2d7e3f984f41",
   "metadata": {},
   "outputs": [],
   "source": []
  }
 ],
 "metadata": {
  "kernelspec": {
   "display_name": "Python 3 (ipykernel)",
   "language": "python",
   "name": "python3"
  },
  "language_info": {
   "codemirror_mode": {
    "name": "ipython",
    "version": 3
   },
   "file_extension": ".py",
   "mimetype": "text/x-python",
   "name": "python",
   "nbconvert_exporter": "python",
   "pygments_lexer": "ipython3",
   "version": "3.9.7"
  }
 },
 "nbformat": 4,
 "nbformat_minor": 5
}
